{
  "nbformat": 4,
  "nbformat_minor": 0,
  "metadata": {
    "colab": {
      "provenance": [],
      "authorship_tag": "ABX9TyNokkWbAyVwrOIrkTFIVL2E",
      "include_colab_link": true
    },
    "kernelspec": {
      "name": "python3",
      "display_name": "Python 3"
    },
    "language_info": {
      "name": "python"
    }
  },
  "cells": [
    {
      "cell_type": "markdown",
      "metadata": {
        "id": "view-in-github",
        "colab_type": "text"
      },
      "source": [
        "<a href=\"https://colab.research.google.com/github/fugulin/Coursera_Capstone/blob/main/numerology.ipynb\" target=\"_parent\"><img src=\"https://colab.research.google.com/assets/colab-badge.svg\" alt=\"Open In Colab\"/></a>"
      ]
    },
    {
      "cell_type": "code",
      "execution_count": 2,
      "metadata": {
        "colab": {
          "base_uri": "https://localhost:8080/"
        },
        "id": "A09P9AjuQLqI",
        "outputId": "7b3d4e3f-965c-4660-b313-711c8d633da4"
      },
      "outputs": [
        {
          "output_type": "stream",
          "name": "stdout",
          "text": [
            "The numerology number for Marcos Antonio de Almeida Fugulin born on 05/10/1969 is 8.\n"
          ]
        }
      ],
      "source": [
        "# Assign numerical values to letters in the alphabet\n",
        "letter_values = {'A': 1, 'B': 2, 'C': 3, 'D': 4, 'E': 5, 'F': 6, 'G': 7, 'H': 8, 'I': 9, 'J': 1, 'K': 2, 'L': 3, 'M': 4, 'N': 5, 'O': 6, 'P': 7, 'Q': 8, 'R': 9, 'S': 1, 'T': 2, 'U': 3, 'V': 4, 'W': 5, 'X': 6, 'Y': 7, 'Z': 8}\n",
        "\n",
        "def get_name_number(name):\n",
        "    # Remove spaces and convert to uppercase\n",
        "    name = name.replace(' ', '').upper()\n",
        "    # Calculate the numerical value of the name by adding up the values of its letters\n",
        "    name_value = sum([letter_values.get(letter, 0) for letter in name])\n",
        "    # Reduce the name value to a single-digit number or a Master Number\n",
        "    while name_value > 9:\n",
        "        name_value = sum([int(digit) for digit in str(name_value)])\n",
        "    return name_value\n",
        "\n",
        "def get_birthdate_number(birthdate):\n",
        "    # Remove slashes and convert to string\n",
        "    birthdate = str(birthdate).replace('/', '')\n",
        "    # Calculate the sum of the digits in the birthdate\n",
        "    birthdate_value = sum([int(digit) for digit in birthdate])\n",
        "    # Reduce the birthdate value to a single-digit number or a Master Number\n",
        "    while birthdate_value > 9:\n",
        "        birthdate_value = sum([int(digit) for digit in str(birthdate_value)])\n",
        "    return birthdate_value\n",
        "\n",
        "def get_numerology_number(name, birthdate):\n",
        "    # Calculate the name number and birthdate number\n",
        "    name_number = get_name_number(name)\n",
        "    birthdate_number = get_birthdate_number(birthdate)\n",
        "    # Add the name number and birthdate number together\n",
        "    numerology_number = name_number + birthdate_number\n",
        "    # Reduce the numerology number to a single-digit number or a Master Number\n",
        "    while numerology_number > 9:\n",
        "        numerology_number = sum([int(digit) for digit in str(numerology_number)])\n",
        "    return numerology_number\n",
        "\n",
        "# Example usage\n",
        "name = 'Marcos Antonio de Almeida Fugulin'\n",
        "birthdate = '05/10/1969'\n",
        "numerology_number = get_numerology_number(name, birthdate)\n",
        "print(f'The numerology number for {name} born on {birthdate} is {numerology_number}.')\n"
      ]
    }
  ]
}